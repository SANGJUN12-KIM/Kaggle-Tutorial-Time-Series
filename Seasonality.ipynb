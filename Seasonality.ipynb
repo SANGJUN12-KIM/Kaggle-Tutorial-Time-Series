{
 "cells": [
  {
   "cell_type": "markdown",
   "metadata": {
    "collapsed": true,
    "pycharm": {
     "name": "#%% md\n"
    }
   },
   "source": [
    "# Kaggle-Tutorial\n",
    "\n",
    "## Time Series\n",
    "\n",
    "---\n",
    "\n",
    "## 계절성Seasonality\n",
    "\n",
    "주기적인 편화를 포착하여 지표indicators와 푸리에Fourier features를 생성한다.\n",
    "\n",
    "원본: [seasonality](https://www.kaggle.com/ryanholbrook/seasonality)\n",
    "\n",
    "---\n",
    "### 계절성Seasonality이란?\n",
    "\n",
    "우리는 시리즈의 평균에서 규칙적이고 주기적인 변화의 계절성을 띈다고 말한다. 계절적 변화는 일반적으로 clock와 calendar을 따른다. -- 하루, 일주일 또는 1년에 걸쳐 반복되는 것이 일반적이다. 계절성은 종종 수일 및 수년에 걸친 자연 세계의 주기 또는 날짜와 시간을 둘러싼 사회적 행동의 관습에 의해 주도됩니다.\n",
    "\n",
    "![Seasonal patterns in four time series.](https://i.imgur.com/ViYbSxS.png)\n",
    "<center>Seasonal patterns in four time series.</center>\n",
    "\n",
    "우리는 계절성을 모델링하는 두가지 유형의 features를 학습할 것이다. 첫번째 종류인 지표indicators는 일주일간 매일의 날씨와 같이 적은 관찰로 이루어진 데이터를 다루는데에 적합하다. 두번째 종류인 푸리에Fourier features는 일년간의 매일 날씨와 같이 많은 관측이 이루어진 데이터를 다루는 데 적합하다."
   ]
  },
  {
   "cell_type": "markdown",
   "source": [
    "### 계절적 플롯Seasonal Plot과 계절적 지표Seasonal Indicators\n",
    "\n",
    "이동평균을 사용하여 시리즈의 추세를 찾았던 것 처럼, **계절적 플롯**을 이용하여 계절적인 패턴을 찾을 수 있다.\n",
    "\n",
    "계절적 플롯은 당신이 관찰하려는 기간에 대한 일반적인 시계열의 구분segments을 플롯화하여 보여준다. 이 그림은 *삼각법*에 대한 Wikipedia 기사의 일일 조회수에 대한 계절별 플롯을 보여준다: 이 기사의 일일 조회수는 공통적으로 일주일을 기준으로 하여 플롯화 되었다.\n",
    "\n",
    "![](https://i.imgur.com/bd7D4NJ.png)\n",
    "<center>이 시리즈에는, 주중에는 더 높고 주말에는 감소하는, 주간의 계절성 패턴이 분명히 드러난다. </center>\n",
    "\n",
    "\n",
    "#### 계절적 지표Seasonal Indicators\n",
    "\n",
    "**계절적 지표Seasonal Indicators**는 시계열 수준에서 계절적 차이를 나타내는 이진적 특징binary features이다. 계절적 기간을 범주적 특징으로 처리하고 원-핫 인코딩을 적용하면 계절절 지표를 얻을 수 있다.\n",
    "\n",
    "원-핫 인코딩된 주간의 요일로써 일주일의 계절적 지표를 얻는다. *삼각법* 시리즈에 대한 주간지표를 생성하면, 6개의 새로운 \"더미\" 특성을 얻게 될 것이다.(선형회귀는 지표들 중 하나를 드랍하는 경우 가장 잘 작동한다; 아내 프레임에서는 월요일을 선택함)\n",
    "\n",
    "| Date       | Tuesday | Wednesday | Thursday | Friday | Saturday | Sunday |\n",
    "|------------|---------|-----------|----------|--------|----------|--------|\n",
    "| 2016-01-04 | 0.0     | 0.0       | 0.0      | 0.0    | 0.0      | 0.0    |\n",
    "| 2016-01-05 | 1.0     | 0.0       | 0.0      | 0.0    | 0.0      | 0.0    |\n",
    "| 2016-01-06 | 0.0     | 1.0       | 0.0      | 0.0    | 0.0      | 0.0    |\n",
    "| 2016-01-07 | 0.0     | 0.0       | 1.0      | 0.0    | 0.0      | 0.0    |\n",
    "| 2016-01-08 | 0.0     | 0.0       | 0.0      | 1.0    | 0.0      | 0.0    |\n",
    "| 2016-01-09 | 0.0     | 0.0       | 0.0      | 0.0    | 1.0      | 0.0    |\n",
    "| 2016-01-10 | 0.0     | 0.0       | 0.0      | 0.0    | 0.0      | 1.0    |\n",
    "| 2016-01-11 | 0.0     | 0.0       | 0.0      | 0.0    | 0.0      | 0.0    |\n",
    "| ...        | ...     | ...       | ...      | ...    | ...      | ...    |\n",
    "\n",
    "훈현 데이터에 계절적 지표를 추가하면 모델이 계절적 기간 내 평균을 구별하는데 도움이 된다.\n",
    "\n",
    "![](https://i.imgur.com/hIlF5j5.png)\n",
    "<center>일반적 선형회귀는 해당 시즌 안의 각 시간에 대한 평균값을 학습한다. </center>\n",
    "\n",
    "지표들은 On/Off 스위치의 역할을 한다. 언제건 이러한 지표들 중 하나는 `1`(*On*)의 값을 가질수 있게 된다. 선형 회귀는 `월요일`의 2379을 기준으로 잡아 학습하고, 그다음 어떠한 지표가 *On*되어 있는 날짜의 값들에 적용시킨다; 나머지 날짜의 지표들은 0이고 사라진다."
   ],
   "metadata": {
    "collapsed": false
   }
  }
 ],
 "metadata": {
  "kernelspec": {
   "display_name": "Python 3",
   "language": "python",
   "name": "python3"
  },
  "language_info": {
   "codemirror_mode": {
    "name": "ipython",
    "version": 2
   },
   "file_extension": ".py",
   "mimetype": "text/x-python",
   "name": "python",
   "nbconvert_exporter": "python",
   "pygments_lexer": "ipython2",
   "version": "2.7.6"
  }
 },
 "nbformat": 4,
 "nbformat_minor": 0
}