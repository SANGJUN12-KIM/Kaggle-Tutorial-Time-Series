{
 "cells": [
  {
   "cell_type": "markdown",
   "metadata": {
    "collapsed": true,
    "pycharm": {
     "name": "#%% md\n"
    }
   },
   "source": [
    "# Kaggle-Tutorial\n",
    "\n",
    "## Time Series\n",
    "\n",
    "---\n",
    "\n",
    "## 추세Trand\n",
    "\n",
    "이동 평균과 time dummy를 사용한 장기 변화 모델링\n",
    "\n",
    "원본: [Trand](https://www.kaggle.com/ryanholbrook/trend)\n",
    "\n",
    "---\n",
    "###추세Trand란?\n",
    "\n",
    "시계열의 **추세Trand** 구성 요소componet는 계열 평균의 지속적이고 장기적인 변화를 나타냅니다. 추세는 시리즈에서 가장 느리게 움직이는 부분으로 가장 큰 중요도를 나타내는 부분입니다. 제품 판매의 시계열에서 증가 추세는 해마다 제품에 대해 더 많은 사람들이 알게 됨이 시장 확장에 영향을 준것으로 볼 수 있습니다.\n",
    "\n",
    "![Trend patterns in four time series.](https://i.imgur.com/ZdS4ZoJ.png)\n",
    "\n",
    "이 과정에서는 평균의 추세에 중점을 둘 것입니다. 그러나 더 일반적으로 시계열에서 지속적이고 느리게 움직이는 변화는 추세를 구성할 수 있습니다. 실제로 시계열에는 일반적으로 변동 추세가 있습니다."
   ]
  }
 ],
 "metadata": {
  "kernelspec": {
   "display_name": "Python 3",
   "language": "python",
   "name": "python3"
  },
  "language_info": {
   "codemirror_mode": {
    "name": "ipython",
    "version": 2
   },
   "file_extension": ".py",
   "mimetype": "text/x-python",
   "name": "python",
   "nbconvert_exporter": "python",
   "pygments_lexer": "ipython2",
   "version": "2.7.6"
  }
 },
 "nbformat": 4,
 "nbformat_minor": 0
}