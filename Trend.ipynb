{
 "cells": [
  {
   "cell_type": "markdown",
   "metadata": {
    "collapsed": true,
    "pycharm": {
     "name": "#%% md\n"
    }
   },
   "source": [
    "# Kaggle-Tutorial\n",
    "\n",
    "## Time Series\n",
    "\n",
    "---\n",
    "\n",
    "## 추세Trand\n",
    "\n",
    "이동 평균과 time dummy를 사용한 장기 변화 모델링\n",
    "\n",
    "원본: [Trand](https://www.kaggle.com/ryanholbrook/trend)\n",
    "\n",
    "---\n",
    "### 추세Trand란?\n",
    "\n",
    "시계열의 **추세Trand** 구성 요소componet는 계열 평균의 지속적이고 장기적인 변화를 나타냅니다. 추세는 시리즈에서 가장 느리게 움직이는 부분으로 가장 큰 중요도를 나타내는 부분입니다. 제품 판매의 시계열에서 증가 추세는 해마다 제품에 대해 더 많은 사람들이 알게 됨이 시장 확장에 영향을 준것으로 볼 수 있습니다.\n",
    "\n",
    "![Trend patterns in four time series.](https://i.imgur.com/ZdS4ZoJ.png)\n",
    "\n",
    "이 과정에서는 평균의 추세에 중점을 둘 것이다. 그러나 더 일반적으로 시계열에서 지속적이고 느리게 움직이는 변화는 추세를 구성할 수 있다. 실제로 시계열에는 일반적으로 변동 추세가 있다.\n",
    "\n",
    "### 이동 평균 플롯\n",
    "\n",
    "시계열에 어떤 종류의 추세가 있는지 확인하기 위해 **이동 평균 플롯**을 사용할 수 있다. 시계열의 이동 평균을 계산하기 위해, 우리는 어떤 정의된 너비의 슬라이딩 창 내에서 값들의 평균을 계산합니다. 그래프의 각 점은 양쪽 창에 속하는 계열의 모든 값 평균을 나타냅니다. 아이디어는 시리즈의 모든 단기 변동을 완화하여 장기적인 변화만 남도록 하는 것입니다.\n",
    "\n",
    "![A moving average plot illustrating a linear trend. Each point on the curve (blue) is the average of the points (red) within a window of size 12.](https://i.imgur.com/EZOXiPs.gif)\n",
    "\n",
    "위의 *Mauna Loa* 시리즈가 해마다 위아래로 반복되는 움직임, 즉 단기적인 *계절적* 변화에 주목하라. 변화가 추세의 일부가 되려면 계절적 변화보다 더 오랜 기간에 걸쳐 발생해야 합니다. 따라서 추세를 시각화하기 위해 시리즈의 어떤 계절 기간보다 긴 기간에 대한 평균을 취합니다. *Mauna Loa* 시리즈의 경우 매년 시즌을 매끄럽게 하기 위해 크기 12의 창을 선택했습니다."
   ]
  }
 ],
 "metadata": {
  "kernelspec": {
   "display_name": "Python 3",
   "language": "python",
   "name": "python3"
  },
  "language_info": {
   "codemirror_mode": {
    "name": "ipython",
    "version": 2
   },
   "file_extension": ".py",
   "mimetype": "text/x-python",
   "name": "python",
   "nbconvert_exporter": "python",
   "pygments_lexer": "ipython2",
   "version": "2.7.6"
  }
 },
 "nbformat": 4,
 "nbformat_minor": 0
}